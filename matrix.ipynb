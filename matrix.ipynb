{
 "cells": [
  {
   "cell_type": "code",
   "execution_count": 1,
   "metadata": {},
   "outputs": [
    {
     "name": "stdout",
     "output_type": "stream",
     "text": [
      "First Matrix \n",
      " [[1 2 3]\n",
      " [4 5 6]] \n",
      "Second matrix \n",
      " [[2 3]\n",
      " [4 5]\n",
      " [6 7]]\n",
      "Product Matrix\n",
      " [[28 34]\n",
      " [64 79]]\n",
      "Transpose of First matrix\n",
      " [[1 4]\n",
      " [2 5]\n",
      " [3 6]]\n"
     ]
    }
   ],
   "source": [
    "#matrix multiplication and transpose\n",
    "import numpy as np\n",
    "from scipy import linalg\n",
    "a=np.arange(1,7)\n",
    "b=np.arange(2,8)\n",
    "x=a.reshape(2,3)\n",
    "y=b.reshape(3,2)\n",
    "print(\"First Matrix \\n\",x,\"\\nSecond matrix \\n\",y)\n",
    "print(\"Product Matrix\\n\",np.dot(x,y))\n",
    "print(\"Transpose of First matrix\\n\",np.transpose(x))"
   ]
  },
  {
   "cell_type": "code",
   "execution_count": null,
   "metadata": {
    "collapsed": true
   },
   "outputs": [],
   "source": []
  }
 ],
 "metadata": {
  "kernelspec": {
   "display_name": "Python 3",
   "language": "python",
   "name": "python3"
  },
  "language_info": {
   "codemirror_mode": {
    "name": "ipython",
    "version": 3
   },
   "file_extension": ".py",
   "mimetype": "text/x-python",
   "name": "python",
   "nbconvert_exporter": "python",
   "pygments_lexer": "ipython3",
   "version": "3.6.3"
  }
 },
 "nbformat": 4,
 "nbformat_minor": 2
}
