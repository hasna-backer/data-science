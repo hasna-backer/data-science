{
 "cells": [
  {
   "cell_type": "code",
   "execution_count": 1,
   "metadata": {},
   "outputs": [
    {
     "name": "stdout",
     "output_type": "stream",
     "text": [
      "\n",
      "__prediction__\n",
      " [2 1 0 2 0 2 0 1 1 1 2 1 1 1 1 0 1 1 0 0 2 1 0 0 2 0 0 1 1 0 2 1 0 2 2 1 0\n",
      " 1]\n",
      "\n",
      "__acual__\n",
      " [2 1 0 2 0 2 0 1 1 1 2 1 1 1 1 0 1 1 0 0 2 1 0 0 2 0 0 1 1 0 2 1 0 2 2 1 0\n",
      " 1]\n",
      "\n",
      "__Confusion matrix__\n",
      "\n",
      " [[13  0  0]\n",
      " [ 0 16  0]\n",
      " [ 0  0  9]]\n",
      "\n",
      "Accuracy score:  1.0\n"
     ]
    }
   ],
   "source": [
    "#import pandas as pd\n",
    "from sklearn.datasets import load_iris\n",
    "a=load_iris()\n",
    "#print(a)\n",
    "x=a.data\n",
    "y=a.target\n",
    "#print(x)\n",
    "#print(y)\n",
    "\n",
    "from sklearn.model_selection import train_test_split\n",
    "x_train,x_test,y_train,y_test=train_test_split(x,y,test_size=0.25,random_state=0)\n",
    "\n",
    "from sklearn.naive_bayes import GaussianNB\n",
    "c=GaussianNB()\n",
    "c.fit(x_train,y_train)\n",
    "p=c.predict(x_test)\n",
    "print(\"\\n__prediction__\\n\",p)\n",
    "print(\"\\n__acual__\\n\",y_test)\n",
    "\n",
    "from sklearn.metrics import accuracy_score,confusion_matrix\n",
    "con=confusion_matrix(p,y_test)\n",
    "print(\"\\n__Confusion matrix__\\n\\n\",con)\n",
    "\n",
    "acc=accuracy_score(y_test,p)\n",
    "print(\"\\nAccuracy score: \",acc)"
   ]
  },
  {
   "cell_type": "code",
   "execution_count": null,
   "metadata": {
    "collapsed": true
   },
   "outputs": [],
   "source": []
  }
 ],
 "metadata": {
  "kernelspec": {
   "display_name": "Python 3",
   "language": "python",
   "name": "python3"
  },
  "language_info": {
   "codemirror_mode": {
    "name": "ipython",
    "version": 3
   },
   "file_extension": ".py",
   "mimetype": "text/x-python",
   "name": "python",
   "nbconvert_exporter": "python",
   "pygments_lexer": "ipython3",
   "version": "3.6.3"
  }
 },
 "nbformat": 4,
 "nbformat_minor": 2
}
